{
 "cells": [
  {
   "cell_type": "code",
   "execution_count": 1,
   "id": "38bf6c4e",
   "metadata": {},
   "outputs": [],
   "source": []
  },
  {
   "cell_type": "code",
   "execution_count": 2,
   "id": "64bff79b",
   "metadata": {},
   "outputs": [],
   "source": [
    "from tkinter import *\n",
    "from web3 import Web3\n",
    "        \n",
    "        \n",
    "def checkConnection():\n",
    "    infuraURL = enterUrl.get()\n",
    "    web3 = Web3((Web3.HTTPProvider(infuraURL)))\n",
    "    if(web3.is_connected()):\n",
    "        label1.config(text=\"Connection Successful!\",font=(\"Poppins\",10))\n",
    "        #canvas.create_text(10,100,anchor='nw',text=\"Connection Successful!\",font=(\"Poppins\",10))\n",
    "        checkCon.config(bg='#daffb3')\n",
    "        canvas.create_text(10,140,anchor='nw',text=\"Enter Your Wallet Address / Public Key:\",font=(\"Poppins\",10))\n",
    "        canvas.create_text(10,190,anchor='nw',text=\"Enter Receiver's Address / Public Key:\",font=(\"Poppins\",10))\n",
    "        canvas.create_text(10,240,anchor='nw',text=\"Enter Amount:\",font=(\"Poppins\",10))\n",
    "        canvas.create_text(10,290,anchor='nw',text=\"Enter PRIVATE KEY:\",font=(\"Poppins\",10))\n",
    "        enterFrom = Entry()\n",
    "        enterFrom.place(x=270,y=138,height=25,width=280)\n",
    "\n",
    "        enterTo = Entry()\n",
    "        enterTo.place(x=270,y=188,height=25,width=280)\n",
    "\n",
    "        enterValue = Entry()\n",
    "        enterValue.place(x=270,y=236,height=25,width=280)\n",
    "\n",
    "        enterPkey = Entry(bg='#ffb3b3')\n",
    "        enterPkey.place(x=270,y=286,height=25,width=280)\n",
    "        \n",
    "        def performTransaction():\n",
    "            amountWei= int(float(enterValue.get())*pow(10,18))\n",
    "            #amountWei = web3.to_wei(float(enterValue.get()) ,'ether')\n",
    "            gasPrice = web3.eth.gas_price\n",
    "            transaction = {'to': enterTo.get(),'value':amountWei,'gas':21000,'gasPrice':gasPrice,'nonce':web3.eth.get_transaction_count(enterFrom.get()),'chainId':11155111}\n",
    "            signtxn = web3.eth.account.sign_transaction(transaction,enterPkey.get())\n",
    "            txn_hash = web3.eth.send_raw_transaction(signtxn.raw_transaction)\n",
    "            #canvas.create_text(10,370,anchor='nw',text=web3.to_hex(txn_hash),font=(\"Poppins\",10))\n",
    "            confirm_txn = web3.eth.wait_for_transaction_receipt(txn_hash)\n",
    "            #canvas.create_text(10,400,anchor='nw',text=str(confirm_txn['blockNumber']),font=(\"Poppins\",10))\n",
    "            output = Entry()\n",
    "            output.place(x=10,y=360,height=20,width=200)\n",
    "            output2 = Entry()\n",
    "            output2.place(x=10,y=390,height=20,width=500)\n",
    "            output.insert(0,str(confirm_txn['blockNumber']))\n",
    "            output2.insert(0,\"https://sepolia.etherscan.io/tx/\"+str(web3.to_hex(txn_hash)))\n",
    "                \n",
    "        transButton = Button(text='Send Transaction',command = performTransaction)\n",
    "        transButton.place(x=10,y=320,width=200,height=30)\n",
    "        \n",
    "        \n",
    "        \n",
    "        \n",
    "        \n",
    "    else:\n",
    "        label1.config(text=\"Connection Not Successful!\",font=(\"Poppins\",10))\n",
    "        #canvas.create_text(10,100,anchor='nw',text=\"Connection Not Successful!\",font=(\"Poppins\",10))\n",
    "        checkCon.config(bg='#ff3333')\n",
    "        output.delete(0,END)\n",
    "        output2.delete(0,END)\n",
    "        \n",
    "\n",
    "        \n",
    "window = Tk()\n",
    "\n",
    "window.title(\"Send Transaction on Sepholia Network\")\n",
    "window.geometry(\"720x480\")\n",
    "\n",
    "canvas = Canvas(\n",
    "    window,\n",
    "    bg = \"#FFFFFF\",\n",
    "    height = 480,\n",
    "    width = 720,\n",
    "    bd = 0,\n",
    "    highlightthickness = 0,\n",
    "    relief = \"ridge\"\n",
    ")\n",
    "\n",
    "label1 = Label(bg='white')\n",
    "label1.place(x=0, y=80, width=200, height=20)\n",
    "\n",
    "enterUrl = Entry()\n",
    "enterUrl.place(x=10,y=10,height=20,width=250)\n",
    "\n",
    "checkCon = Button(text='Check Connection',command = checkConnection)\n",
    "checkCon.place(x=10,y=45,width=200,height=30)\n",
    "\n",
    "\n",
    "canvas.place(x = 0,y=0)\n",
    "window.mainloop()"
   ]
  },
  {
   "cell_type": "code",
   "execution_count": null,
   "id": "ccd80636",
   "metadata": {},
   "outputs": [],
   "source": []
  },
  {
   "cell_type": "code",
   "execution_count": 23,
   "id": "9968a2b5",
   "metadata": {},
   "outputs": [
    {
     "ename": "AttributeError",
     "evalue": "'NoneType' object has no attribute 'is_connected'",
     "output_type": "error",
     "traceback": [
      "\u001b[1;31m---------------------------------------------------------------------------\u001b[0m",
      "\u001b[1;31mAttributeError\u001b[0m                            Traceback (most recent call last)",
      "Cell \u001b[1;32mIn[23], line 2\u001b[0m\n\u001b[0;32m      1\u001b[0m web3\u001b[38;5;241m.\u001b[39mprovider \u001b[38;5;241m=\u001b[39m \u001b[38;5;28;01mNone\u001b[39;00m\n\u001b[1;32m----> 2\u001b[0m \u001b[38;5;28mprint\u001b[39m(\u001b[43mweb3\u001b[49m\u001b[38;5;241;43m.\u001b[39;49m\u001b[43mis_connected\u001b[49m\u001b[43m(\u001b[49m\u001b[43m)\u001b[49m)\n",
      "File \u001b[1;32m~\\anaconda3\\lib\\site-packages\\web3\\main.py:389\u001b[0m, in \u001b[0;36mWeb3.is_connected\u001b[1;34m(self, show_traceback)\u001b[0m\n\u001b[0;32m    388\u001b[0m \u001b[38;5;28;01mdef\u001b[39;00m \u001b[38;5;21mis_connected\u001b[39m(\u001b[38;5;28mself\u001b[39m, show_traceback: \u001b[38;5;28mbool\u001b[39m \u001b[38;5;241m=\u001b[39m \u001b[38;5;28;01mFalse\u001b[39;00m) \u001b[38;5;241m-\u001b[39m\u001b[38;5;241m>\u001b[39m \u001b[38;5;28mbool\u001b[39m:\n\u001b[1;32m--> 389\u001b[0m     \u001b[38;5;28;01mreturn\u001b[39;00m \u001b[38;5;28;43mself\u001b[39;49m\u001b[38;5;241;43m.\u001b[39;49m\u001b[43mprovider\u001b[49m\u001b[38;5;241;43m.\u001b[39;49m\u001b[43mis_connected\u001b[49m(show_traceback)\n",
      "\u001b[1;31mAttributeError\u001b[0m: 'NoneType' object has no attribute 'is_connected'"
     ]
    }
   ],
   "source": []
  },
  {
   "cell_type": "code",
   "execution_count": 5,
   "id": "67a17b6e",
   "metadata": {},
   "outputs": [],
   "source": [
    "web3 = Web3(Web3.HTTPProvider(''))"
   ]
  },
  {
   "cell_type": "code",
   "execution_count": null,
   "id": "56252a89",
   "metadata": {},
   "outputs": [],
   "source": []
  }
 ],
 "metadata": {
  "kernelspec": {
   "display_name": "Python 3 (ipykernel)",
   "language": "python",
   "name": "python3"
  },
  "language_info": {
   "codemirror_mode": {
    "name": "ipython",
    "version": 3
   },
   "file_extension": ".py",
   "mimetype": "text/x-python",
   "name": "python",
   "nbconvert_exporter": "python",
   "pygments_lexer": "ipython3",
   "version": "3.10.9"
  }
 },
 "nbformat": 4,
 "nbformat_minor": 5
}
